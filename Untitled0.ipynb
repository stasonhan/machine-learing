{
 "metadata": {
  "name": "",
  "signature": "sha256:7541852a4988ce6d1ed6bca9d603e91e262bd284a0569edb4a94a782b18729cc"
 },
 "nbformat": 3,
 "nbformat_minor": 0,
 "worksheets": [
  {
   "cells": [
    {
     "cell_type": "code",
     "collapsed": true,
     "input": [
      "import tensorflow as tf\n",
      "import numpy as np \n",
      "\n",
      "#class tf.Graph\n",
      "#tensorflow\u8fd0\u884c\u65f6\u9700\u8981\u8bbe\u7f6e\u9ed8\u8ba4\u7684\u56fe\n",
      "\n",
      "\n",
      "\n",
      "sess = tf.Session()\n",
      "with sess.as_default():\n",
      "    b = tf.constant([[1,2,3],[4,5,6]],dtype=tf.float32)\n",
      "    c = tf.constant([[3,1,5],[2,7,4]],dtype=tf.float32)\n",
      "    #print  tf.greater(b,c).eval()\n",
      "    print tf.where(tf.greater(b,c),b,c).eval()\n"
     ],
     "language": "python",
     "metadata": {},
     "outputs": [
      {
       "output_type": "stream",
       "stream": "stdout",
       "text": [
        "[[ 3.  2.  5.]\n",
        " [ 4.  7.  6.]]\n"
       ]
      }
     ],
     "prompt_number": 10
    },
    {
     "cell_type": "code",
     "collapsed": false,
     "input": [],
     "language": "python",
     "metadata": {},
     "outputs": []
    }
   ],
   "metadata": {}
  }
 ]
}