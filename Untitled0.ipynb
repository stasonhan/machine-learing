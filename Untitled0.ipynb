{
 "metadata": {
  "name": "",
  "signature": "sha256:b19e2b1576592e3ee417825ca662a3e987613b8da6d9d1fe77a7bc9b7f793d34"
 },
 "nbformat": 3,
 "nbformat_minor": 0,
 "worksheets": [
  {
   "cells": [
    {
     "cell_type": "code",
     "collapsed": true,
     "input": [
      "import tensorflow as tf\n",
      "import numpy as np \n",
      "\n",
      "#class tf.Graph\n",
      "#tensorflow\u8fd0\u884c\u65f6\u9700\u8981\u8bbe\u7f6e\u9ed8\u8ba4\u7684\u56fe\n",
      "\n",
      "sess = tf.Session()\n",
      "with sess.as_default():\n",
      "    b = tf.constant([[1,2,3],[4,5,6]],dtype=tf.float32)\n",
      "    c = tf.constant([[3,1,5],[2,7,4]],dtype=tf.float32)\n",
      "    #print  tf.greater(b,c).eval()\n",
      "    print tf.contrib.layers.l1_regularizer(.5)(b).eval()\n",
      "    print tf.contrib.layers.l2_regularizer(.5)(b).eval()\n"
     ],
     "language": "python",
     "metadata": {},
     "outputs": [
      {
       "output_type": "stream",
       "stream": "stdout",
       "text": [
        "10.5\n",
        "22.75"
       ]
      },
      {
       "output_type": "stream",
       "stream": "stdout",
       "text": [
        "\n"
       ]
      }
     ],
     "prompt_number": 13
    },
    {
     "cell_type": "code",
     "collapsed": false,
     "input": [],
     "language": "python",
     "metadata": {},
     "outputs": [],
     "prompt_number": 11
    }
   ],
   "metadata": {}
  }
 ]
}