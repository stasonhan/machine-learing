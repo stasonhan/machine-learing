{
 "metadata": {
  "name": "",
  "signature": "sha256:cefc64673f5063d0e5f51cd96c4dcd7e82387ae95fef535952a9e10089b1098b"
 },
 "nbformat": 3,
 "nbformat_minor": 0,
 "worksheets": [
  {
   "cells": [
    {
     "cell_type": "code",
     "collapsed": true,
     "input": [
      "import tensorflow as tf\n",
      "import numpy as np \n",
      "\n",
      "#class tf.Graph\n",
      "#tensorflow\u8fd0\u884c\u65f6\u9700\u8981\u8bbe\u7f6e\u9ed8\u8ba4\u7684\u56fe\n",
      "g = tf.Graph()\n",
      "A= np.random.rand(10,10).astype('float32')\n",
      "b= tf.constant([1,1,1,1,1,1,1,1,1,1],shape=[10,1],dtype=tf.float32)\n",
      "with g.as_default():\n",
      "  # Define operations and tensors in `g`.\n",
      "  c = tf.constant(30.0)\n",
      "  assert c.graph is g\n",
      "  op = tf.matmul(A,b)\n",
      "\n",
      "##\u4e5f\u53ef\u4ee5\u4f7f\u7528tf.get_default_graph()\u83b7\u5f97\u9ed8\u8ba4\u56fe\uff0c\u4e5f\u53ef\u5728\u57fa\u7840\u4e0a\u52a0\u5165\u8282\u70b9\u6216\u5b50\u56fe\n",
      "c = tf.constant(4.0)\n",
      "print c.graph is tf.get_default_graph()\n",
      "print g.get_operations()\n",
      "print op "
     ],
     "language": "python",
     "metadata": {},
     "outputs": []
    },
    {
     "cell_type": "code",
     "collapsed": false,
     "input": [
      "c.get_shape()"
     ],
     "language": "python",
     "metadata": {},
     "outputs": []
    }
   ],
   "metadata": {}
  }
 ]
}