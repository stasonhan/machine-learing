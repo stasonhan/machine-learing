{
 "metadata": {
  "name": "",
  "signature": "sha256:3c0d6ba25f2aa4ee6f63409d2022605de37b672da5b4407c25394e4d0aa3738c"
 },
 "nbformat": 3,
 "nbformat_minor": 0,
 "worksheets": [
  {
   "cells": [
    {
     "cell_type": "code",
     "collapsed": false,
     "input": [
      "import tensorflow as tf\n",
      "import numpy as np \n",
      "\n",
      "#class tf.Graph\n",
      "#tensorflow\u8fd0\u884c\u65f6\u9700\u8981\u8bbe\u7f6e\u9ed8\u8ba4\u7684\u56fe\n",
      "\n",
      "sess = tf.Session()\n",
      "with sess.as_default():\n",
      "    var = tf.Variable(tf.constant(0.1,shape=[10]))\n",
      "    b = tf.constant([[1,2,3],[4,5,6]],dtype=tf.float32)\n",
      "    c = tf.constant([[3,1,5],[2,7,4]],dtype=tf.float32)\n",
      "    op_init = tf.global_variables_initializer()\n",
      "    sess.run(op_init)\n",
      "    #print  tf.greater(b,c).eval()\n",
      "    #print tf.contrib.layers.l1_regularizer(.5)(b).eval()\n",
      "    #print tf.contrib.layers.l2_regularizer(.5)(b).eval()\n",
      "    print var.eval()\n",
      "    "
     ],
     "language": "python",
     "metadata": {},
     "outputs": [
      {
       "output_type": "stream",
       "stream": "stdout",
       "text": [
        "[ 0.1  0.1  0.1  0.1  0.1  0.1  0.1  0.1  0.1  0.1]\n"
       ]
      }
     ],
     "prompt_number": 2
    },
    {
     "cell_type": "code",
     "collapsed": false,
     "input": [],
     "language": "python",
     "metadata": {},
     "outputs": []
    }
   ],
   "metadata": {}
  }
 ]
}